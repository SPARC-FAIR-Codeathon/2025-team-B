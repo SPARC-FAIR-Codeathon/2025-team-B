{
 "cells": [
  {
   "cell_type": "code",
   "execution_count": 1,
   "id": "de611cb7",
   "metadata": {},
   "outputs": [
    {
     "name": "stdout",
     "output_type": "stream",
     "text": [
      "[INFO] Loaded 21 descriptor(s) from ./mapping_schemes\n",
      "[WARN] Mapping smrx_mapping_315 failed: np.uint8(80)\n"
     ]
    },
    {
     "ename": "RuntimeError",
     "evalue": "No suitable mapping descriptor found.",
     "output_type": "error",
     "traceback": [
      "\u001b[31m---------------------------------------------------------------------------\u001b[39m",
      "\u001b[31mRuntimeError\u001b[39m                              Traceback (most recent call last)",
      "\u001b[36mCell\u001b[39m\u001b[36m \u001b[39m\u001b[32mIn[1]\u001b[39m\u001b[32m, line 22\u001b[39m\n\u001b[32m     20\u001b[39m \u001b[38;5;66;03m# Check if mapping was successful\u001b[39;00m\n\u001b[32m     21\u001b[39m \u001b[38;5;28;01mif\u001b[39;00m result[\u001b[33m\"\u001b[39m\u001b[33mdescriptor\u001b[39m\u001b[33m\"\u001b[39m] \u001b[38;5;129;01mis\u001b[39;00m \u001b[38;5;28;01mNone\u001b[39;00m:\n\u001b[32m---> \u001b[39m\u001b[32m22\u001b[39m     \u001b[38;5;28;01mraise\u001b[39;00m \u001b[38;5;167;01mRuntimeError\u001b[39;00m(\u001b[33m\"\u001b[39m\u001b[33mNo suitable mapping descriptor found.\u001b[39m\u001b[33m\"\u001b[39m)\n\u001b[32m     24\u001b[39m \u001b[38;5;66;03m# Show mapping result\u001b[39;00m\n\u001b[32m     25\u001b[39m \u001b[38;5;28mprint\u001b[39m(\u001b[33m\"\u001b[39m\u001b[33mSelected mapping:\u001b[39m\u001b[33m\"\u001b[39m, result[\u001b[33m'\u001b[39m\u001b[33mdescriptor\u001b[39m\u001b[33m'\u001b[39m][\u001b[33m'\u001b[39m\u001b[33mid\u001b[39m\u001b[33m'\u001b[39m])\n",
      "\u001b[31mRuntimeError\u001b[39m: No suitable mapping descriptor found."
     ]
    }
   ],
   "source": [
    "%matplotlib inline\n",
    "%load_ext autoreload\n",
    "%autoreload 3\n",
    "\n",
    "import matplotlib.pyplot as plt\n",
    "from pathlib import Path\n",
    "from utils import match_best_mapping, load_all_descriptors, save_standardized_output\n",
    "\n",
    "# Load all descriptor files from folder\n",
    "descriptors = load_all_descriptors()\n",
    "\n",
    "# File to convert\n",
    "filepath = \"./downloads/1224-2-dcz.smrx\"\n",
    "filename = Path(filepath).name\n",
    "\n",
    "# Optional: specify SPARC ID for faster mapping\n",
    "# Works also without sparc_id as the mapping scheme from 126 works well on this acq file as well\n",
    "result = match_best_mapping(descriptors, filepath, sparc_id=315)\n",
    "\n",
    "# Check if mapping was successful\n",
    "if result[\"descriptor\"] is None:\n",
    "    raise RuntimeError(\"No suitable mapping descriptor found.\")\n",
    "\n",
    "# Show mapping result\n",
    "print(\"Selected mapping:\", result['descriptor']['id'])\n",
    "print(\"Score:\", result['score'])\n",
    "\n",
    "print(\"result:\")\n",
    "print(result)\n",
    "\n",
    "# Preview signal\n",
    "time = result['result']['time']\n",
    "signals = result['result']['signals']\n",
    "\n",
    "plt.figure(figsize=(10, 4))\n",
    "for i, ch in enumerate(signals):\n",
    "    plt.plot(time, ch, label=f\"CH{i+1}\")\n",
    "plt.xlabel(\"Time (s)\")\n",
    "plt.ylabel(\"Signal\")\n",
    "plt.title(\"Mapped CSV Preview\")\n",
    "plt.legend()\n",
    "plt.tight_layout()\n",
    "plt.show()\n",
    "\n",
    "# Save to standardized .npz format in ./output\n",
    "output_dir = Path(\"./output\")\n",
    "output_dir.mkdir(parents=True, exist_ok=True)\n",
    "\n",
    "output_path = output_dir / filename.replace(\".csv\", \".npz\")\n",
    "\n",
    "save_standardized_output(\n",
    "    output_path=output_path,\n",
    "    result_dict=result[\"result\"],\n",
    "    descriptor=result[\"descriptor\"],\n",
    "    original_filename=filename,\n",
    "    annotations=result[\"result\"].get(\"annotations\", []),\n",
    "    metadata_overrides=None,\n",
    "    file_format=\"npz\"\n",
    ")\n",
    "\n",
    "print(f\"✅ Saved standardized data to: {output_path}\")\n"
   ]
  },
  {
   "cell_type": "code",
   "execution_count": null,
   "id": "08fe86b5",
   "metadata": {},
   "outputs": [],
   "source": [
    "import numpy as np\n",
    "import matplotlib.pyplot as plt\n",
    "from pathlib import Path\n",
    "\n",
    "# Load the .npz file\n",
    "npz_path = Path(\"./output/sub-142_T12_10Hz_continuous_afferent.npz\")\n",
    "data = np.load(npz_path, allow_pickle=True)\n",
    "\n",
    "# Extract arrays\n",
    "time = data[\"time\"]\n",
    "signals = data[\"signals\"]\n",
    "metadata = data[\"metadata\"].item()  # metadata is saved as a Python dict\n",
    "channel_names = metadata.get(\"channel_names\", [f\"CH{i+1}\" for i in range(len(signals))])\n",
    "\n",
    "# Plot\n",
    "plt.figure(figsize=(10, 4))\n",
    "for i, ch in enumerate(signals):\n",
    "    plt.plot(time, ch, label=channel_names[i])\n",
    "plt.xlabel(\"Time (s)\")\n",
    "plt.ylabel(\"Signal\")\n",
    "plt.title(\"Sanity Check: Reloaded from NPZ\")\n",
    "plt.legend()\n",
    "plt.tight_layout()\n",
    "plt.show()\n",
    "\n",
    "print(data['metadata'])"
   ]
  },
  {
   "cell_type": "code",
   "execution_count": null,
   "id": "2545ef2d",
   "metadata": {},
   "outputs": [],
   "source": [
    "from neo.rawio.spike2rawio import Spike2RawIO\n",
    "filepath = \"./downloads/1224-2-dcz.smrx\"\n",
    "\n",
    "reader = Spike2RawIO(filename=str(filepath))\n",
    "reader.parse_header()\n",
    "\n",
    "print(\"Blocks:\", reader.header['nb_block'])\n",
    "print(\"Segments:\", reader.header['nb_segment'])\n",
    "print(\"Signal channels:\")\n",
    "print(reader.header['signal_channels'])\n",
    "print(\"Event channels:\")\n",
    "print(reader.header['event_channels'])\n"
   ]
  },
  {
   "cell_type": "code",
   "execution_count": null,
   "id": "5c72ac8a",
   "metadata": {},
   "outputs": [],
   "source": []
  }
 ],
 "metadata": {
  "kernelspec": {
   "display_name": "xlstm",
   "language": "python",
   "name": "python3"
  },
  "language_info": {
   "codemirror_mode": {
    "name": "ipython",
    "version": 3
   },
   "file_extension": ".py",
   "mimetype": "text/x-python",
   "name": "python",
   "nbconvert_exporter": "python",
   "pygments_lexer": "ipython3",
   "version": "3.11.13"
  }
 },
 "nbformat": 4,
 "nbformat_minor": 5
}
