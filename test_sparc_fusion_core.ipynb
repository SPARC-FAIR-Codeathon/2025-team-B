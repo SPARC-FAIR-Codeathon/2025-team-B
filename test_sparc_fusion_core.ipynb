{
 "cells": [
  {
   "cell_type": "code",
   "execution_count": null,
   "id": "57550618",
   "metadata": {},
   "outputs": [],
   "source": [
    "%matplotlib inline\n",
    "%load_ext autoreload\n",
    "%autoreload 3\n",
    "from sparc_fuse_core import (get_sparc_datasets_by_id, list_primary_files,\n",
    "                      print_project_metadata, \n",
    "                      download_and_move_sparc_file, list_sparc_datasets)\n",
    "\n",
    "DATASET_ID = 224\n",
    "\n",
    "type_map = get_sparc_datasets_by_id(ids=[DATASET_ID])\n",
    "files, meta = list_primary_files(DATASET_ID)\n",
    "print_project_metadata(meta)\n",
    "download_and_move_sparc_file(\n",
    "    rel_path=files[0][\"path\"].replace(\"files/\", \"\"),\n",
    "    dataset_id=DATASET_ID,\n",
    "    output_dir=\"./output\"\n",
    ")\n",
    "\n",
    "type_id_map = list_sparc_datasets()\n",
    "print(\"Dataset type counts:\")\n",
    "for t, ids in type_id_map.items():\n",
    "    print(f\"  {t}: {len(ids)} datasets\")\n",
    "print(\"Total datasets:\", sum(len(ids) for ids in type_id_map.values()))\n",
    "print(\"Dataset IDs:\", list(type_id_map.keys()))"
   ]
  },
  {
   "cell_type": "code",
   "execution_count": null,
   "id": "22aafded",
   "metadata": {},
   "outputs": [],
   "source": [
    "from sparc_fuse_core import download_and_convert_sparc_data\n",
    "\n",
    "files, meta = list_primary_files(DATASET_ID)\n",
    "\n",
    "print(\"primary files: \", [f[\"path\"] for f in files])\n",
    "\n",
    "# Case 1 – convert a single file\n",
    "download_and_convert_sparc_data(\n",
    "    DATASET_ID,\n",
    "    primary_paths=files[0][\"path\"].replace(\"files/\", \"\"),\n",
    "    output_dir=\"./output_single\", \n",
    "    file_format=\"zarr\"  # or \"zarr.zip\"\n",
    ")"
   ]
  },
  {
   "cell_type": "code",
   "execution_count": null,
   "id": "a7700579",
   "metadata": {},
   "outputs": [],
   "source": [
    "# Case 2 – bulk-convert every primary file in dataset 108, write .zarr archives\n",
    "bulk_report = download_and_convert_sparc_data(\n",
    "    DATASET_ID,\n",
    "    output_dir=\"./output_bulk\",\n",
    "    file_format=\"zarr\"\n",
    ")\n",
    "\n",
    "# See what happened\n",
    "from pprint import pprint\n",
    "pprint(bulk_report)"
   ]
  },
  {
   "cell_type": "code",
   "execution_count": null,
   "id": "50856e4c",
   "metadata": {},
   "outputs": [],
   "source": [
    "\n",
    "# Grab (for example) the first three primary files from the dataset\n",
    "files, _ = list_primary_files(DATASET_ID)\n",
    "subset_paths = [f[\"path\"].replace(\"files/\", \"\") for f in files[:3]]\n",
    "\n",
    "# Now pass that *list* to the helper\n",
    "report = download_and_convert_sparc_data(\n",
    "    DATASET_ID,\n",
    "    primary_paths=subset_paths,   # any iterable (list, tuple, set, generator) works\n",
    "    output_dir=\"./output_subset\",\n",
    "    file_format=\"npz\",            # or \"zarr\", \"zarr.zip\", ...\n",
    "    overwrite=True,               # regenerate if outputs already exist\n",
    ")\n",
    "\n",
    "# Inspect what happened\n",
    "from pprint import pprint\n",
    "pprint(report)"
   ]
  },
  {
   "cell_type": "markdown",
   "id": "51ba2a02",
   "metadata": {},
   "source": []
  }
 ],
 "metadata": {
  "kernelspec": {
   "display_name": "sparc_vns",
   "language": "python",
   "name": "python3"
  },
  "language_info": {
   "codemirror_mode": {
    "name": "ipython",
    "version": 3
   },
   "file_extension": ".py",
   "mimetype": "text/x-python",
   "name": "python",
   "nbconvert_exporter": "python",
   "pygments_lexer": "ipython3",
   "version": "3.10.18"
  }
 },
 "nbformat": 4,
 "nbformat_minor": 5
}
