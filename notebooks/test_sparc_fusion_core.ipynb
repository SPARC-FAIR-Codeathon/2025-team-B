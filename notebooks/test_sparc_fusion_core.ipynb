{
 "cells": [
  {
   "cell_type": "code",
   "execution_count": null,
   "id": "57550618",
   "metadata": {},
   "outputs": [],
   "source": [
    "%matplotlib inline\n",
    "%load_ext autoreload\n",
    "%autoreload 3\n",
    "from sparcfuse.sparc_fuse_core import (get_sparc_datasets_by_id, list_primary_files,\n",
    "                      print_project_metadata, \n",
    "                      download_and_move_sparc_file, list_sparc_datasets)\n",
    "\n",
    "DATASET_ID = 224\n",
    "\n",
    "type_map = get_sparc_datasets_by_id(ids=[DATASET_ID])\n",
    "files, meta = list_primary_files(DATASET_ID)\n",
    "print_project_metadata(meta)\n",
    "download_and_move_sparc_file(\n",
    "    rel_path=files[0][\"path\"].replace(\"files/\", \"\"),\n",
    "    dataset_id=DATASET_ID,\n",
    "    output_dir=\"../output\"\n",
    ")\n",
    "\n",
    "type_id_map = list_sparc_datasets()\n",
    "print(\"Dataset type counts:\")\n",
    "for t, ids in type_id_map.items():\n",
    "    print(f\"  {t}: {len(ids)} datasets\")\n",
    "print(\"Total datasets:\", sum(len(ids) for ids in type_id_map.values()))\n",
    "print(\"Dataset IDs:\", list(type_id_map.keys()))"
   ]
  },
  {
   "cell_type": "code",
   "execution_count": null,
   "id": "22aafded",
   "metadata": {},
   "outputs": [
    {
     "name": "stdout",
     "output_type": "stream",
     "text": [
      "[INFO] Loaded 34 descriptor(s) from ./mapping_schemes\n"
     ]
    },
    {
     "name": "stderr",
     "output_type": "stream",
     "text": [
      "Dataset 224: 100%|██████████| 1/1 [00:07<00:00,  7.08s/it]\n"
     ]
    },
    {
     "data": {
      "text/plain": [
       "[{'rel_path': 'primary/sub-ChAT-Male-Subject-1/20_1021.acq',\n",
       "  'local_path': '/var/folders/34/5y88z7rd5ml0ycwmy2g3ntrw0000gn/T/tmpno6zvb_u/20_1021.acq',\n",
       "  'std_path': 'output_single/20_1021_std.zarr',\n",
       "  'descriptor_id': 'acq_mapping_001',\n",
       "  'mapping_score': 3,\n",
       "  'status': 'ok',\n",
       "  'error': None}]"
      ]
     },
     "execution_count": 9,
     "metadata": {},
     "output_type": "execute_result"
    }
   ],
   "source": [
    "from sparcfuse.sparc_fuse_core import download_and_convert_sparc_data\n",
    "\n",
    "files, meta = list_primary_files(DATASET_ID)\n",
    "\n",
    "# Case 1 – convert a single file\n",
    "download_and_convert_sparc_data(\n",
    "    DATASET_ID,\n",
    "    primary_paths=files[0][\"path\"].replace(\"files/\", \"\"),\n",
    "    output_dir=\"../output_single\", \n",
    "    file_format=\"zarr\"  # or \"zarr.zip\"\n",
    ")"
   ]
  },
  {
   "cell_type": "code",
   "execution_count": null,
   "id": "a7700579",
   "metadata": {},
   "outputs": [
    {
     "name": "stdout",
     "output_type": "stream",
     "text": [
      "[INFO] Loaded 34 descriptor(s) from ./mapping_schemes\n"
     ]
    },
    {
     "name": "stderr",
     "output_type": "stream",
     "text": [
      "Dataset 224: 100%|██████████| 13/13 [02:16<00:00, 10.51s/it]"
     ]
    },
    {
     "name": "stdout",
     "output_type": "stream",
     "text": [
      "[{'descriptor_id': 'acq_mapping_001',\n",
      "  'error': None,\n",
      "  'local_path': '/var/folders/34/5y88z7rd5ml0ycwmy2g3ntrw0000gn/T/tmpex2za0y7/20_1021.acq',\n",
      "  'mapping_score': 3,\n",
      "  'rel_path': 'primary/sub-ChAT-Male-Subject-1/20_1021.acq',\n",
      "  'status': 'ok',\n",
      "  'std_path': 'output_bulk/20_1021_std.zarr'},\n",
      " {'descriptor_id': 'acq_mapping_001',\n",
      "  'error': None,\n",
      "  'local_path': '/var/folders/34/5y88z7rd5ml0ycwmy2g3ntrw0000gn/T/tmpo52dwjfe/20_1022.acq',\n",
      "  'mapping_score': 3,\n",
      "  'rel_path': 'primary/sub-ChAT-Male-Subject-2/20_1022.acq',\n",
      "  'status': 'ok',\n",
      "  'std_path': 'output_bulk/20_1022_std.zarr'},\n",
      " {'descriptor_id': 'acq_mapping_001',\n",
      "  'error': None,\n",
      "  'local_path': '/var/folders/34/5y88z7rd5ml0ycwmy2g3ntrw0000gn/T/tmpf47uy2n1/20_1023.acq',\n",
      "  'mapping_score': 3,\n",
      "  'rel_path': 'primary/sub-ChAT-Female-Subject-1/20_1023.acq',\n",
      "  'status': 'ok',\n",
      "  'std_path': 'output_bulk/20_1023_std.zarr'},\n",
      " {'descriptor_id': 'acq_mapping_001',\n",
      "  'error': None,\n",
      "  'local_path': '/var/folders/34/5y88z7rd5ml0ycwmy2g3ntrw0000gn/T/tmp9wmmva66/20_1027a.acq',\n",
      "  'mapping_score': 3,\n",
      "  'rel_path': 'primary/sub-ChAT-Male-Subject-3/20_1027a.acq',\n",
      "  'status': 'ok',\n",
      "  'std_path': 'output_bulk/20_1027a_std.zarr'},\n",
      " {'descriptor_id': 'acq_mapping_001',\n",
      "  'error': None,\n",
      "  'local_path': '/var/folders/34/5y88z7rd5ml0ycwmy2g3ntrw0000gn/T/tmp4edjgxex/20_1027b.acq',\n",
      "  'mapping_score': 3,\n",
      "  'rel_path': 'primary/sub-ChAT-Female-Subject-2/20_1027b.acq',\n",
      "  'status': 'ok',\n",
      "  'std_path': 'output_bulk/20_1027b_std.zarr'},\n",
      " {'descriptor_id': 'acq_mapping_001',\n",
      "  'error': None,\n",
      "  'local_path': '/var/folders/34/5y88z7rd5ml0ycwmy2g3ntrw0000gn/T/tmpfdfuvizq/20_1028.acq',\n",
      "  'mapping_score': 3,\n",
      "  'rel_path': 'primary/sub-ChAT-Female-Subject-3/20_1028.acq',\n",
      "  'status': 'ok',\n",
      "  'std_path': 'output_bulk/20_1028_std.zarr'},\n",
      " {'descriptor_id': 'acq_mapping_001',\n",
      "  'error': None,\n",
      "  'local_path': '/var/folders/34/5y88z7rd5ml0ycwmy2g3ntrw0000gn/T/tmpnviwo_2u/20_1202a.acq',\n",
      "  'mapping_score': 3,\n",
      "  'rel_path': 'primary/sub-nNOS-Male-Subject-1/20_1202a.acq',\n",
      "  'status': 'ok',\n",
      "  'std_path': 'output_bulk/20_1202a_std.zarr'},\n",
      " {'descriptor_id': 'acq_mapping_001',\n",
      "  'error': None,\n",
      "  'local_path': '/var/folders/34/5y88z7rd5ml0ycwmy2g3ntrw0000gn/T/tmp80v3zzqx/20_1202b.acq',\n",
      "  'mapping_score': 3,\n",
      "  'rel_path': 'primary/sub-nNOS-Male-Subject-2/20_1202b.acq',\n",
      "  'status': 'ok',\n",
      "  'std_path': 'output_bulk/20_1202b_std.zarr'},\n",
      " {'descriptor_id': 'acq_mapping_001',\n",
      "  'error': None,\n",
      "  'local_path': '/var/folders/34/5y88z7rd5ml0ycwmy2g3ntrw0000gn/T/tmpiyvab2fi/20_1203a.acq',\n",
      "  'mapping_score': 3,\n",
      "  'rel_path': 'primary/sub-nNOS-Male-Subject-3/20_1203a.acq',\n",
      "  'status': 'ok',\n",
      "  'std_path': 'output_bulk/20_1203a_std.zarr'},\n",
      " {'descriptor_id': 'acq_mapping_001',\n",
      "  'error': None,\n",
      "  'local_path': '/var/folders/34/5y88z7rd5ml0ycwmy2g3ntrw0000gn/T/tmpu8pc0zbr/20_1203b.acq',\n",
      "  'mapping_score': 3,\n",
      "  'rel_path': 'primary/sub-nNOS-Female-Subject-1/20_1203b.acq',\n",
      "  'status': 'ok',\n",
      "  'std_path': 'output_bulk/20_1203b_std.zarr'},\n",
      " {'descriptor_id': 'acq_mapping_001',\n",
      "  'error': None,\n",
      "  'local_path': '/var/folders/34/5y88z7rd5ml0ycwmy2g3ntrw0000gn/T/tmpsdag8gwl/20_1207.acq',\n",
      "  'mapping_score': 3,\n",
      "  'rel_path': 'primary/sub-nNOS-Female-Subject-2/20_1207.acq',\n",
      "  'status': 'ok',\n",
      "  'std_path': 'output_bulk/20_1207_std.zarr'},\n",
      " {'descriptor_id': 'acq_mapping_001',\n",
      "  'error': None,\n",
      "  'local_path': '/var/folders/34/5y88z7rd5ml0ycwmy2g3ntrw0000gn/T/tmp__sf36pe/20_1208.acq',\n",
      "  'mapping_score': 3,\n",
      "  'rel_path': 'primary/sub-nNOS-Female-Subject-3/20_1208.acq',\n",
      "  'status': 'ok',\n",
      "  'std_path': 'output_bulk/20_1208_std.zarr'},\n",
      " {'descriptor_id': None,\n",
      "  'error': \"Extension '.xlsx' not supported by pipeline\",\n",
      "  'local_path': None,\n",
      "  'mapping_score': None,\n",
      "  'rel_path': 'primary/manifest.xlsx',\n",
      "  'status': 'unsupported',\n",
      "  'std_path': None}]\n"
     ]
    },
    {
     "name": "stderr",
     "output_type": "stream",
     "text": [
      "\n"
     ]
    }
   ],
   "source": [
    "# Case 2 – bulk-convert every primary file in dataset 108, write .zarr archives\n",
    "bulk_report = download_and_convert_sparc_data(\n",
    "    DATASET_ID,\n",
    "    output_dir=\"../output_bulk\",\n",
    "    file_format=\"zarr\"\n",
    ")\n",
    "\n",
    "# See what happened\n",
    "from pprint import pprint\n",
    "pprint(bulk_report)"
   ]
  },
  {
   "cell_type": "code",
   "execution_count": null,
   "id": "50856e4c",
   "metadata": {},
   "outputs": [
    {
     "name": "stdout",
     "output_type": "stream",
     "text": [
      "[INFO] Loaded 34 descriptor(s) from ./mapping_schemes\n"
     ]
    },
    {
     "name": "stderr",
     "output_type": "stream",
     "text": [
      "Dataset 224: 100%|██████████| 3/3 [00:46<00:00, 15.39s/it]"
     ]
    },
    {
     "name": "stdout",
     "output_type": "stream",
     "text": [
      "[{'descriptor_id': 'acq_mapping_001',\n",
      "  'error': None,\n",
      "  'local_path': '/var/folders/34/5y88z7rd5ml0ycwmy2g3ntrw0000gn/T/tmpjinfk171/20_1021.acq',\n",
      "  'mapping_score': 3,\n",
      "  'rel_path': 'primary/sub-ChAT-Male-Subject-1/20_1021.acq',\n",
      "  'status': 'ok',\n",
      "  'std_path': 'output_subset/20_1021_std.npz'},\n",
      " {'descriptor_id': 'acq_mapping_001',\n",
      "  'error': None,\n",
      "  'local_path': '/var/folders/34/5y88z7rd5ml0ycwmy2g3ntrw0000gn/T/tmponfmotw_/20_1022.acq',\n",
      "  'mapping_score': 3,\n",
      "  'rel_path': 'primary/sub-ChAT-Male-Subject-2/20_1022.acq',\n",
      "  'status': 'ok',\n",
      "  'std_path': 'output_subset/20_1022_std.npz'},\n",
      " {'descriptor_id': 'acq_mapping_001',\n",
      "  'error': None,\n",
      "  'local_path': '/var/folders/34/5y88z7rd5ml0ycwmy2g3ntrw0000gn/T/tmpcr3_t3k8/20_1023.acq',\n",
      "  'mapping_score': 3,\n",
      "  'rel_path': 'primary/sub-ChAT-Female-Subject-1/20_1023.acq',\n",
      "  'status': 'ok',\n",
      "  'std_path': 'output_subset/20_1023_std.npz'}]\n"
     ]
    },
    {
     "name": "stderr",
     "output_type": "stream",
     "text": [
      "\n"
     ]
    }
   ],
   "source": [
    "# Case 3 – bulk-convert a subset of primary files, write .npz archives\n",
    "DATASET_ID = 224  # Any valid SPARC dataset ID\n",
    "\n",
    "# Grab (for example) the first three primary files\n",
    "files, _ = list_primary_files(DATASET_ID)\n",
    "subset_paths = [f[\"path\"].replace(\"files/\", \"\") for f in files[:3]]\n",
    "\n",
    "report = download_and_convert_sparc_data(\n",
    "    DATASET_ID,\n",
    "    primary_paths=subset_paths,   # any iterable works\n",
    "    output_dir=\"../output_subset\",\n",
    "    file_format=\"npz\",\n",
    "    overwrite=True                # regenerate if outputs already exist\n",
    ")\n",
    "\n",
    "from pprint import pprint\n",
    "pprint(report)"
   ]
  },
  {
   "cell_type": "markdown",
   "id": "51ba2a02",
   "metadata": {},
   "source": []
  }
 ],
 "metadata": {
  "kernelspec": {
   "display_name": "sparc_vns",
   "language": "python",
   "name": "python3"
  },
  "language_info": {
   "codemirror_mode": {
    "name": "ipython",
    "version": 3
   },
   "file_extension": ".py",
   "mimetype": "text/x-python",
   "name": "python",
   "nbconvert_exporter": "python",
   "pygments_lexer": "ipython3",
   "version": "3.10.18"
  }
 },
 "nbformat": 4,
 "nbformat_minor": 5
}
